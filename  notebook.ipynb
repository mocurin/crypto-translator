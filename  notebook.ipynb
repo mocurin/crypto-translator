{
 "cells": [
  {
   "cell_type": "markdown",
   "source": [
    "# Source code"
   ],
   "metadata": {}
  },
  {
   "cell_type": "code",
   "execution_count": 1,
   "source": [
    "from collections import Counter\n",
    "\n",
    "\n",
    "def replace(cnt: Counter, replace: dict) -> Counter:\n",
    "    for key, value in (replace or {}).items():\n",
    "        cnt[value] += cnt.pop(key, 0)\n",
    "    \n",
    "    return cnt\n",
    "\n",
    "\n",
    "def ignore(cnt: Counter, ignore: list) -> Counter:\n",
    "    for value in (ignore or []):\n",
    "        del cnt[value]\n",
    "\n",
    "    return cnt\n",
    "\n",
    "\n",
    "def parse_text(text, insensetive=True) -> Counter:\n",
    "    return Counter(text.upper() if insensetive else text)\n",
    "\n",
    "\n",
    "def parse_file(filename: str, encoding='cp1251', *args, **kwargs) -> Counter:\n",
    "    with open(filename, 'r', encoding=encoding) as file:\n",
    "        text = file.read()\n",
    "    \n",
    "    return parse_text(text, *args, **kwargs)\n",
    "\n",
    "\n",
    "def create_mapping(src: Counter, enc: Counter) -> dict:\n",
    "    return {\n",
    "        enc_pair[0]: src_pair[1]\n",
    "        for enc_pair, src_pair in zip(\n",
    "            sorted(enc.items(), key=lambda x: x[1], reverse=True),\n",
    "            sorted(src.items(), key=lambda x: x[1], reverse=True)\n",
    "        )\n",
    "    }"
   ],
   "outputs": [],
   "metadata": {}
  },
  {
   "cell_type": "code",
   "execution_count": 2,
   "source": [
    "import matplotlib.pyplot as plt\n",
    "import numpy as np\n",
    "\n",
    "from IPython.display import display\n",
    "from typing import Callable\n",
    "\n",
    "\n",
    "\n",
    "def cmd(function: Callable) -> Callable:\n",
    "    def wrapper(self, *args, **kwargs):\n",
    "        function(self, *args, **kwargs)\n",
    "\n",
    "        self.display()\n",
    "        self.show()\n",
    "    return wrapper\n",
    "\n",
    "\n",
    "class Application:\n",
    "    source: Counter\n",
    "    encrypted: Counter\n",
    "    encrypted_text: str\n",
    "    identity: list\n",
    "    resolved: dict\n",
    "    \n",
    "    def __init__(self, src: Counter, enc: Counter, enct: str, ident: str = str()):\n",
    "        self.source = src\n",
    "        self.encrypted = enc\n",
    "        self.encrypted_text = enct\n",
    "        self.identity = list(ident)\n",
    "\n",
    "        ignore(self.source, self.identity)\n",
    "        ignore(self.encrypted, self.identity)\n",
    "\n",
    "        self.resolved = dict()\n",
    "\n",
    "    @cmd\n",
    "    def straight(self, s: str) -> None:\n",
    "        s = list(s)\n",
    "\n",
    "        self.identity.extend(s)\n",
    "\n",
    "        ignore(self.encrypted, s)\n",
    "        ignore(self.source, s)\n",
    "        \n",
    "\n",
    "    @cmd\n",
    "    def ignore(self, s: str) -> None:\n",
    "        ignore(self.source, list(s))\n",
    "    \n",
    "    @cmd\n",
    "    def replace(self, lhs: str, rhs: str) -> None:\n",
    "        assert len(lhs) == len(rhs), \"Should be equal length\"\n",
    "\n",
    "        self.resolved.update({l: r for l, r in zip(lhs, rhs)})\n",
    "    \n",
    "    def display(self):\n",
    "        trans = {\n",
    "            key: key for key in self.identity\n",
    "        }\n",
    "\n",
    "        trans.update(\n",
    "            self.resolved\n",
    "        )\n",
    "\n",
    "        trans = str.maketrans(trans)\n",
    "\n",
    "        print(\"Translated text:\")\n",
    "        print(self.encrypted_text)\n",
    "        print(\"To:\")\n",
    "        print(self.encrypted_text.translate(trans))\n",
    "\n",
    "        freq = dict(\n",
    "            zip(\n",
    "                sorted(self.encrypted, key=self.encrypted.get, reverse=True),\n",
    "                sorted(self.source, key=self.source.get, reverse=True)\n",
    "            )\n",
    "        )\n",
    "        \n",
    "        freq.update(trans)\n",
    "\n",
    "        freq = str.maketrans(freq)\n",
    "\n",
    "        print(\"With freq:\")\n",
    "        print(self.encrypted_text.translate(freq))\n",
    "\n",
    "    def show(self):\n",
    "        fig, (ax1, ax2) = plt.subplots(2, 1)\n",
    "\n",
    "        keys_e, values_e = map(\n",
    "            list,\n",
    "            zip(\n",
    "                *sorted(self.encrypted.items(), key=lambda x: x[1], reverse=True),\n",
    "            )\n",
    "        )\n",
    "\n",
    "        ax1.bar(keys_e, values_e)\n",
    "\n",
    "        keys, values = map(\n",
    "            list,\n",
    "            zip(\n",
    "                *sorted(self.source.items(), key=lambda x: x[1], reverse=True)\n",
    "            )\n",
    "        )\n",
    "\n",
    "        ax2.bar(keys[:len(keys_e)], values[:len(values_e)])\n"
   ],
   "outputs": [],
   "metadata": {}
  },
  {
   "cell_type": "code",
   "execution_count": 3,
   "source": [
    "SOURCE_FILE = ('text.txt', 'cp1251')\n",
    "TEXT = \"\"\"1. ИТЮ ВА ЦЙНФН ЦФАКТЗ Й МЩКЩУН. ЭЩЙЩКТЮ ЩВ: «Я ОВАЮ, МСФШ МНУН. УЙН\n",
    "ЦЩЙС, ФКТ БТИА Т БНФСКН ЦФКТИА ЦЙТЮТ ЭВНОУА Й ГЩНХ МЩКЩУН».\n",
    "2. КАО ГНЦШН ТО ЦФКАВС ЦДКТВАГ Й ЬКЩБВСХ ЯПТЗ ОАЦДВДЮ ГАУАГ, Т ВА\n",
    "ЬКЩЦШМД: «ЩФЗКЩХ!» ЩВ ЩФЙНФТЮ: «ВН ВЩХ! ВАЙЦНЭУА ФС ЩЦФАВНЫШЦЯ ФАГ».\"\"\"\n",
    "\n",
    "source = parse_file(*SOURCE_FILE, insensetive=True)\n",
    "encrypted = parse_text(TEXT, insensetive=True)\n",
    "app = Application(source, encrypted, TEXT)\n",
    "app.display()\n",
    "app.show()"
   ],
   "outputs": [
    {
     "output_type": "stream",
     "name": "stdout",
     "text": [
      "Translated text:\n",
      "1. ИТЮ ВА ЦЙНФН ЦФАКТЗ Й МЩКЩУН. ЭЩЙЩКТЮ ЩВ: «Я ОВАЮ, МСФШ МНУН. УЙН\n",
      "ЦЩЙС, ФКТ БТИА Т БНФСКН ЦФКТИА ЦЙТЮТ ЭВНОУА Й ГЩНХ МЩКЩУН».\n",
      "2. КАО ГНЦШН ТО ЦФКАВС ЦДКТВАГ Й ЬКЩБВСХ ЯПТЗ ОАЦДВДЮ ГАУАГ, Т ВА\n",
      "ЬКЩЦШМД: «ЩФЗКЩХ!» ЩВ ЩФЙНФТЮ: «ВН ВЩХ! ВАЙЦНЭУА ФС ЩЦФАВНЫШЦЯ ФАГ».\n",
      "To:\n",
      "1. ИТЮ ВА ЦЙНФН ЦФАКТЗ Й МЩКЩУН. ЭЩЙЩКТЮ ЩВ: «Я ОВАЮ, МСФШ МНУН. УЙН\n",
      "ЦЩЙС, ФКТ БТИА Т БНФСКН ЦФКТИА ЦЙТЮТ ЭВНОУА Й ГЩНХ МЩКЩУН».\n",
      "2. КАО ГНЦШН ТО ЦФКАВС ЦДКТВАГ Й ЬКЩБВСХ ЯПТЗ ОАЦДВДЮ ГАУАГ, Т ВА\n",
      "ЬКЩЦШМД: «ЩФЗКЩХ!» ЩВ ЩФЙНФТЮ: «ВН ВЩХ! ВАЙЦНЭУА ФС ЩЦФАВНЫШЦЯ ФАГ».\n",
      "With freq:\n",
      "EК ЬИД НО ТВАСА ТСОЛИЫ В УЕЛЕРАК БЕВЕЛИД ЕНЗ Ч. ПНОДЙ УМСЯ УАРАК РВАЖТЕВМЙ СЛИ ШИЬО И ШАСМЛА ТСЛИЬО ТВИДИ БНАПРО В ,ЕА\n",
      " УЕЛЕРАХКЖЦК ЛОП ,АТЯА ИП ТСЛОНМ ТГЛИНО, В -ЛЕШНМ\n",
      " .ЭИЫ ПОТГНГД ,ОРО,Й И НОЖ-ЛЕТЯУГЗ ЧЕСЫЛЕ\n",
      "ЮХ ЕН ЕСВАСИДЗ ЧНА НЕ\n",
      "Ю НОВТАБРО СМ ЕТСОНАЩЯТ. СО,ХК\n"
     ]
    },
    {
     "output_type": "display_data",
     "data": {
      "image/png": "[encoded data removed]",
      "text/plain": [
       "<Figure size 432x288 with 2 Axes>"
      ]
     },
     "metadata": {
      "needs_background": "light"
     }
    }
   ],
   "metadata": {}
  },
  {
   "cell_type": "code",
   "execution_count": 4,
   "source": [
    "from string import punctuation, whitespace, digits\n",
    "\n",
    "app.straight(str(punctuation+whitespace+digits+\"«»\").upper())"
   ],
   "outputs": [
    {
     "output_type": "stream",
     "name": "stdout",
     "text": [
      "Translated text:\n",
      "1. ИТЮ ВА ЦЙНФН ЦФАКТЗ Й МЩКЩУН. ЭЩЙЩКТЮ ЩВ: «Я ОВАЮ, МСФШ МНУН. УЙН\n",
      "ЦЩЙС, ФКТ БТИА Т БНФСКН ЦФКТИА ЦЙТЮТ ЭВНОУА Й ГЩНХ МЩКЩУН».\n",
      "2. КАО ГНЦШН ТО ЦФКАВС ЦДКТВАГ Й ЬКЩБВСХ ЯПТЗ ОАЦДВДЮ ГАУАГ, Т ВА\n",
      "ЬКЩЦШМД: «ЩФЗКЩХ!» ЩВ ЩФЙНФТЮ: «ВН ВЩХ! ВАЙЦНЭУА ФС ЩЦФАВНЫШЦЯ ФАГ».\n",
      "To:\n",
      "1. ИТЮ ВА ЦЙНФН ЦФАКТЗ Й МЩКЩУН. ЭЩЙЩКТЮ ЩВ: «Я ОВАЮ, МСФШ МНУН. УЙН\n",
      "ЦЩЙС, ФКТ БТИА Т БНФСКН ЦФКТИА ЦЙТЮТ ЭВНОУА Й ГЩНХ МЩКЩУН».\n",
      "2. КАО ГНЦШН ТО ЦФКАВС ЦДКТВАГ Й ЬКЩБВСХ ЯПТЗ ОАЦДВДЮ ГАУАГ, Т ВА\n",
      "ЬКЩЦШМД: «ЩФЗКЩХ!» ЩВ ЩФЙНФТЮ: «ВН ВЩХ! ВАЙЦНЭУА ФС ЩЦФАВНЫШЦЯ ФАГ».\n",
      "With freq:\n",
      "1. ЫИК НО ТВАСА ТСОЛИБ В УЕЛЕРА. ЗЕВЕЛИК ЕН: «Ч ПНОК, УДСЯ УАРА. РВА\n",
      "ТЕВД, СЛИ ЙИЫО И ЙАСДЛА ТСЛИЫО ТВИКИ ЗНАПРО В МЕАГ УЕЛЕРА».\n",
      "2. ЛОП МАТЯА ИП ТСЛОНД ТЬЛИНОМ В ЖЛЕЙНДГ ЧШИБ ПОТЬНЬК МОРОМ, И НО\n",
      "ЖЛЕТЯУЬ: «ЕСБЛЕГ!» ЕН ЕСВАСИК: «НА НЕГ! НОВТАЗРО СД ЕТСОНАХЯТЧ СОМ».\n"
     ]
    },
    {
     "output_type": "display_data",
     "data": {
      "image/png": "[encoded data removed]",
      "text/plain": [
       "<Figure size 432x288 with 2 Axes>"
      ]
     },
     "metadata": {
      "needs_background": "light"
     }
    }
   ],
   "metadata": {}
  },
  {
   "cell_type": "code",
   "execution_count": 5,
   "source": [
    "app.replace(\"ЩВ ЩФЙНФТЮ\", \"ОН ОТВЕТИЛ\")"
   ],
   "outputs": [
    {
     "output_type": "stream",
     "name": "stdout",
     "text": [
      "Translated text:\n",
      "1. ИТЮ ВА ЦЙНФН ЦФАКТЗ Й МЩКЩУН. ЭЩЙЩКТЮ ЩВ: «Я ОВАЮ, МСФШ МНУН. УЙН\n",
      "ЦЩЙС, ФКТ БТИА Т БНФСКН ЦФКТИА ЦЙТЮТ ЭВНОУА Й ГЩНХ МЩКЩУН».\n",
      "2. КАО ГНЦШН ТО ЦФКАВС ЦДКТВАГ Й ЬКЩБВСХ ЯПТЗ ОАЦДВДЮ ГАУАГ, Т ВА\n",
      "ЬКЩЦШМД: «ЩФЗКЩХ!» ЩВ ЩФЙНФТЮ: «ВН ВЩХ! ВАЙЦНЭУА ФС ЩЦФАВНЫШЦЯ ФАГ».\n",
      "To:\n",
      "1. ИИЛ НА ЦВЕТЕ ЦТАКИЗ В МОКОУЕ. ЭОВОКИЛ ОН: «Я ОНАЛ, МСТШ МЕУЕ. УВЕ\n",
      "ЦОВС, ТКИ БИИА И БЕТСКЕ ЦТКИИА ЦВИЛИ ЭНЕОУА В ГОЕХ МОКОУЕ».\n",
      "2. КАО ГЕЦШЕ ИО ЦТКАНС ЦДКИНАГ В ЬКОБНСХ ЯПИЗ ОАЦДНДЛ ГАУАГ, И НА\n",
      "ЬКОЦШМД: «ОТЗКОХ!» ОН ОТВЕТИЛ: «НЕ НОХ! НАВЦЕЭУА ТС ОЦТАНЕЫШЦЯ ТАГ».\n",
      "With freq:\n",
      "1. ЫИЛ НО ТВЕТЕ ТТОЛИБ В УОЛОРЕ. ЗОВОЛИЛ ОН: «Ч ПНОЛ, УДТЯ УЕРЕ. РВЕ\n",
      "ТОВД, ТЛИ ЙИЫО И ЙЕТДЛЕ ТТЛИЫО ТВИЛИ ЗНЕПРО В МОЕГ УОЛОРЕ».\n",
      "2. ЛОП МЕТЯЕ ИП ТТЛОНД ТЬЛИНОМ В ЖЛОЙНДГ ЧШИБ ПОТЬНЬЛ МОРОМ, И НО\n",
      "ЖЛОТЯУЬ: «ОТБЛОГ!» ОН ОТВЕТИЛ: «НЕ НОГ! НОВТЕЗРО ТД ОТТОНЕХЯТЧ ТОМ».\n"
     ]
    },
    {
     "output_type": "display_data",
     "data": {
      "image/png": "[encoded data removed]",
      "text/plain": [
       "<Figure size 432x288 with 2 Axes>"
      ]
     },
     "metadata": {
      "needs_background": "light"
     }
    }
   ],
   "metadata": {}
  },
  {
   "cell_type": "code",
   "execution_count": 6,
   "source": [
    "app.replace(\"ВН ВЩХ\", \"НЕ НОЙ\")"
   ],
   "outputs": [
    {
     "output_type": "stream",
     "name": "stdout",
     "text": [
      "Translated text:\n",
      "1. ИТЮ ВА ЦЙНФН ЦФАКТЗ Й МЩКЩУН. ЭЩЙЩКТЮ ЩВ: «Я ОВАЮ, МСФШ МНУН. УЙН\n",
      "ЦЩЙС, ФКТ БТИА Т БНФСКН ЦФКТИА ЦЙТЮТ ЭВНОУА Й ГЩНХ МЩКЩУН».\n",
      "2. КАО ГНЦШН ТО ЦФКАВС ЦДКТВАГ Й ЬКЩБВСХ ЯПТЗ ОАЦДВДЮ ГАУАГ, Т ВА\n",
      "ЬКЩЦШМД: «ЩФЗКЩХ!» ЩВ ЩФЙНФТЮ: «ВН ВЩХ! ВАЙЦНЭУА ФС ЩЦФАВНЫШЦЯ ФАГ».\n",
      "To:\n",
      "1. ИИЛ НА ЦВЕТЕ ЦТАКИЗ В МОКОУЕ. ЭОВОКИЛ ОН: «Я ОНАЛ, МСТШ МЕУЕ. УВЕ\n",
      "ЦОВС, ТКИ БИИА И БЕТСКЕ ЦТКИИА ЦВИЛИ ЭНЕОУА В ГОЕЙ МОКОУЕ».\n",
      "2. КАО ГЕЦШЕ ИО ЦТКАНС ЦДКИНАГ В ЬКОБНСЙ ЯПИЗ ОАЦДНДЛ ГАУАГ, И НА\n",
      "ЬКОЦШМД: «ОТЗКОЙ!» ОН ОТВЕТИЛ: «НЕ НОЙ! НАВЦЕЭУА ТС ОЦТАНЕЫШЦЯ ТАГ».\n",
      "With freq:\n",
      "1. ЫИЛ НО ТВЕТЕ ТТОЛИБ В УОЛОРЕ. ЗОВОЛИЛ ОН: «Ч ПНОЛ, УДТЯ УЕРЕ. РВЕ\n",
      "ТОВД, ТЛИ ЙИЫО И ЙЕТДЛЕ ТТЛИЫО ТВИЛИ ЗНЕПРО В МОЕЙ УОЛОРЕ».\n",
      "2. ЛОП МЕТЯЕ ИП ТТЛОНД ТЬЛИНОМ В ЖЛОЙНДЙ ЧШИБ ПОТЬНЬЛ МОРОМ, И НО\n",
      "ЖЛОТЯУЬ: «ОТБЛОЙ!» ОН ОТВЕТИЛ: «НЕ НОЙ! НОВТЕЗРО ТД ОТТОНЕХЯТЧ ТОМ».\n"
     ]
    },
    {
     "output_type": "display_data",
     "data": {
      "image/png": "[encoded data removed]",
      "text/plain": [
       "<Figure size 432x288 with 2 Axes>"
      ]
     },
     "metadata": {
      "needs_background": "light"
     }
    }
   ],
   "metadata": {}
  },
  {
   "cell_type": "code",
   "execution_count": 7,
   "source": [
    "app.replace(\"ЬКЩЦШМД\", \"ЖАЛУЯСЬ\")"
   ],
   "outputs": [
    {
     "output_type": "stream",
     "name": "stdout",
     "text": [
      "Translated text:\n",
      "1. ИТЮ ВА ЦЙНФН ЦФАКТЗ Й МЩКЩУН. ЭЩЙЩКТЮ ЩВ: «Я ОВАЮ, МСФШ МНУН. УЙН\n",
      "ЦЩЙС, ФКТ БТИА Т БНФСКН ЦФКТИА ЦЙТЮТ ЭВНОУА Й ГЩНХ МЩКЩУН».\n",
      "2. КАО ГНЦШН ТО ЦФКАВС ЦДКТВАГ Й ЬКЩБВСХ ЯПТЗ ОАЦДВДЮ ГАУАГ, Т ВА\n",
      "ЬКЩЦШМД: «ЩФЗКЩХ!» ЩВ ЩФЙНФТЮ: «ВН ВЩХ! ВАЙЦНЭУА ФС ЩЦФАВНЫШЦЯ ФАГ».\n",
      "To:\n",
      "1. ИИЛ НА УВЕТЕ УТААИЗ В СЛАЛУЕ. ЭЛВЛАИЛ ЛН: «Я ОНАЛ, ССТЯ СЕУЕ. УВЕ\n",
      "УЛВС, ТАИ БИИА И БЕТСАЕ УТАИИА УВИЛИ ЭНЕОУА В ГЛЕЙ СЛАЛУЕ».\n",
      "2. ААО ГЕУЯЕ ИО УТААНС УЬАИНАГ В ЖАЛБНСЙ ЯПИЗ ОАУЬНЬЛ ГАУАГ, И НА\n",
      "ЖАЛУЯСЬ: «ЛТЗАЛЙ!» ЛН ЛТВЕТИЛ: «НЕ НЛЙ! НАВУЕЭУА ТС ЛУТАНЕЫЯУЯ ТАГ».\n",
      "With freq:\n",
      "1. ЫИЛ НО УВЕТЕ УТОАИБ В СЛАЛРЕ. ЗЛВЛАИЛ ЛН: «Ч ПНОЛ, СДТЯ СЕРЕ. РВЕ\n",
      "УЛВД, ТАИ ЙИЫО И ЙЕТДАЕ УТАИЫО УВИЛИ ЗНЕПРО В МЛЕЙ СЛАЛРЕ».\n",
      "2. АОП МЕУЯЕ ИП УТАОНД УЬАИНОМ В ЖАЛЙНДЙ ЧШИБ ПОУЬНЬЛ МОРОМ, И НО\n",
      "ЖАЛУЯСЬ: «ЛТБАЛЙ!» ЛН ЛТВЕТИЛ: «НЕ НЛЙ! НОВУЕЗРО ТД ЛУТОНЕХЯУЧ ТОМ».\n"
     ]
    },
    {
     "output_type": "display_data",
     "data": {
      "image/png": "[encoded data removed]",
      "text/plain": [
       "<Figure size 432x288 with 2 Axes>"
      ]
     },
     "metadata": {
      "needs_background": "light"
     }
    }
   ],
   "metadata": {}
  },
  {
   "cell_type": "code",
   "execution_count": 8,
   "source": [
    "app.replace(\"ЩВ ЩФЙНФТЮ\", \"ОН ОТВЕТИЛ\")"
   ],
   "outputs": [
    {
     "output_type": "stream",
     "name": "stdout",
     "text": [
      "Translated text:\n",
      "1. ИТЮ ВА ЦЙНФН ЦФАКТЗ Й МЩКЩУН. ЭЩЙЩКТЮ ЩВ: «Я ОВАЮ, МСФШ МНУН. УЙН\n",
      "ЦЩЙС, ФКТ БТИА Т БНФСКН ЦФКТИА ЦЙТЮТ ЭВНОУА Й ГЩНХ МЩКЩУН».\n",
      "2. КАО ГНЦШН ТО ЦФКАВС ЦДКТВАГ Й ЬКЩБВСХ ЯПТЗ ОАЦДВДЮ ГАУАГ, Т ВА\n",
      "ЬКЩЦШМД: «ЩФЗКЩХ!» ЩВ ЩФЙНФТЮ: «ВН ВЩХ! ВАЙЦНЭУА ФС ЩЦФАВНЫШЦЯ ФАГ».\n",
      "To:\n",
      "1. ИИЛ НА УВЕТЕ УТААИЗ В СОАОУЕ. ЭОВОАИЛ ОН: «Я ОНАЛ, ССТЯ СЕУЕ. УВЕ\n",
      "УОВС, ТАИ БИИА И БЕТСАЕ УТАИИА УВИЛИ ЭНЕОУА В ГОЕЙ СОАОУЕ».\n",
      "2. ААО ГЕУЯЕ ИО УТААНС УЬАИНАГ В ЖАОБНСЙ ЯПИЗ ОАУЬНЬЛ ГАУАГ, И НА\n",
      "ЖАОУЯСЬ: «ОТЗАОЙ!» ОН ОТВЕТИЛ: «НЕ НОЙ! НАВУЕЭУА ТС ОУТАНЕЫЯУЯ ТАГ».\n",
      "With freq:\n",
      "1. ЫИЛ НО УВЕТЕ УТОАИБ В СОАОРЕ. ЗОВОАИЛ ОН: «Ч ПНОЛ, СДТЯ СЕРЕ. РВЕ\n",
      "УОВД, ТАИ ЙИЫО И ЙЕТДАЕ УТАИЫО УВИЛИ ЗНЕПРО В МОЕЙ СОАОРЕ».\n",
      "2. АОП МЕУЯЕ ИП УТАОНД УЬАИНОМ В ЖАОЙНДЙ ЧШИБ ПОУЬНЬЛ МОРОМ, И НО\n",
      "ЖАОУЯСЬ: «ОТБАОЙ!» ОН ОТВЕТИЛ: «НЕ НОЙ! НОВУЕЗРО ТД ОУТОНЕХЯУЧ ТОМ».\n"
     ]
    },
    {
     "output_type": "display_data",
     "data": {
      "image/png": "[encoded data removed]",
      "text/plain": [
       "<Figure size 432x288 with 2 Axes>"
      ]
     },
     "metadata": {
      "needs_background": "light"
     }
    }
   ],
   "metadata": {}
  },
  {
   "cell_type": "code",
   "execution_count": 9,
   "source": [
    "app.replace(\"Т ВА ЬКЩЦШМД: «ЩФЗКЩХ!»\", \"И НА ПРОСЬБУ: «ОТКРОЙ!»\")"
   ],
   "outputs": [
    {
     "output_type": "stream",
     "name": "stdout",
     "text": [
      "Translated text:\n",
      "1. ИТЮ ВА ЦЙНФН ЦФАКТЗ Й МЩКЩУН. ЭЩЙЩКТЮ ЩВ: «Я ОВАЮ, МСФШ МНУН. УЙН\n",
      "ЦЩЙС, ФКТ БТИА Т БНФСКН ЦФКТИА ЦЙТЮТ ЭВНОУА Й ГЩНХ МЩКЩУН».\n",
      "2. КАО ГНЦШН ТО ЦФКАВС ЦДКТВАГ Й ЬКЩБВСХ ЯПТЗ ОАЦДВДЮ ГАУАГ, Т ВА\n",
      "ЬКЩЦШМД: «ЩФЗКЩХ!» ЩВ ЩФЙНФТЮ: «ВН ВЩХ! ВАЙЦНЭУА ФС ЩЦФАВНЫШЦЯ ФАГ».\n",
      "To:\n",
      "1. ИИЛ НА СВЕТЕ СТАРИК В БОРОУЕ. ЭОВОРИЛ ОН: «Я ОНАЛ, БСТЬ БЕУЕ. УВЕ\n",
      "СОВС, ТРИ БИИА И БЕТСРЕ СТРИИА СВИЛИ ЭНЕОУА В ГОЕЙ БОРОУЕ».\n",
      "2. РАО ГЕСЬЕ ИО СТРАНС СУРИНАГ В ПРОБНСЙ ЯПИК ОАСУНУЛ ГАУАГ, И НА\n",
      "ПРОСЬБУ: «ОТКРОЙ!» ОН ОТВЕТИЛ: «НЕ НОЙ! НАВСЕЭУА ТС ОСТАНЕЫЬСЯ ТАГ».\n",
      "With freq:\n",
      "1. ЫИЛ НА СВЕТЕ СТАРИК В БОРОРЕ. ЗОВОРИЛ ОН: «Ч ПНАЛ, БДТЬ БЕРЕ. РВЕ\n",
      "СОВД, ТРИ ЙИЫА И ЙЕТДРЕ СТРИЫА СВИЛИ ЗНЕПРА В МОЕЙ БОРОРЕ».\n",
      "2. РАП МЕСЬЕ ИП СТРАНД СУРИНАМ В ПРОЙНДЙ ЧШИК ПАСУНУЛ МАРАМ, И НА\n",
      "ПРОСЬБУ: «ОТКРОЙ!» ОН ОТВЕТИЛ: «НЕ НОЙ! НАВСЕЗРА ТД ОСТАНЕХЬСЧ ТАМ».\n"
     ]
    },
    {
     "output_type": "display_data",
     "data": {
      "image/png": "[encoded data removed]",
      "text/plain": [
       "<Figure size 432x288 with 2 Axes>"
      ]
     },
     "metadata": {
      "needs_background": "light"
     }
    }
   ],
   "metadata": {}
  },
  {
   "cell_type": "code",
   "execution_count": 10,
   "source": [
    "app.replace(\"ВАЙЦНЭУА ФС ЩЦФАВНЫШЦЯ ФАГ\", \"НАВСЕГДА ТЫ ОСТАНЕШЬСЯ ТАМ\")"
   ],
   "outputs": [
    {
     "output_type": "stream",
     "name": "stdout",
     "text": [
      "Translated text:\n",
      "1. ИТЮ ВА ЦЙНФН ЦФАКТЗ Й МЩКЩУН. ЭЩЙЩКТЮ ЩВ: «Я ОВАЮ, МСФШ МНУН. УЙН\n",
      "ЦЩЙС, ФКТ БТИА Т БНФСКН ЦФКТИА ЦЙТЮТ ЭВНОУА Й ГЩНХ МЩКЩУН».\n",
      "2. КАО ГНЦШН ТО ЦФКАВС ЦДКТВАГ Й ЬКЩБВСХ ЯПТЗ ОАЦДВДЮ ГАУАГ, Т ВА\n",
      "ЬКЩЦШМД: «ЩФЗКЩХ!» ЩВ ЩФЙНФТЮ: «ВН ВЩХ! ВАЙЦНЭУА ФС ЩЦФАВНЫШЦЯ ФАГ».\n",
      "To:\n",
      "1. ИИЛ НА СВЕТЕ СТАРИК В БОРОДЕ. ГОВОРИЛ ОН: «Я ОНАЛ, БЫТЬ БЕДЕ. ДВЕ\n",
      "СОВЫ, ТРИ БИИА И БЕТЫРЕ СТРИИА СВИЛИ ГНЕОДА В МОЕЙ БОРОДЕ».\n",
      "2. РАО МЕСЬЕ ИО СТРАНЫ СУРИНАМ В ПРОБНЫЙ ЯПИК ОАСУНУЛ МАДАМ, И НА\n",
      "ПРОСЬБУ: «ОТКРОЙ!» ОН ОТВЕТИЛ: «НЕ НОЙ! НАВСЕГДА ТЫ ОСТАНЕШЬСЯ ТАМ».\n",
      "With freq:\n",
      "1. ЫИЛ НА СВЕТЕ СТАРИК В БОРОДЕ. ГОВОРИЛ ОН: «Я ПНАЛ, БЫТЬ БЕДЕ. ДВЕ\n",
      "СОВЫ, ТРИ ЙИЫА И ЙЕТЫРЕ СТРИЫА СВИЛИ ГНЕПДА В МОЕЙ БОРОДЕ».\n",
      "2. РАП МЕСЬЕ ИП СТРАНЫ СУРИНАМ В ПРОЙНЫЙ ЯШИК ПАСУНУЛ МАДАМ, И НА\n",
      "ПРОСЬБУ: «ОТКРОЙ!» ОН ОТВЕТИЛ: «НЕ НОЙ! НАВСЕГДА ТЫ ОСТАНЕШЬСЯ ТАМ».\n"
     ]
    },
    {
     "output_type": "display_data",
     "data": {
      "image/png": "[encoded data removed]",
      "text/plain": [
       "<Figure size 432x288 with 2 Axes>"
      ]
     },
     "metadata": {
      "needs_background": "light"
     }
    }
   ],
   "metadata": {}
  },
  {
   "cell_type": "code",
   "execution_count": 11,
   "source": [
    "app.replace(\"ИТЮ ВА\", \"БЫЛ НА\")"
   ],
   "outputs": [
    {
     "output_type": "stream",
     "name": "stdout",
     "text": [
      "Translated text:\n",
      "1. ИТЮ ВА ЦЙНФН ЦФАКТЗ Й МЩКЩУН. ЭЩЙЩКТЮ ЩВ: «Я ОВАЮ, МСФШ МНУН. УЙН\n",
      "ЦЩЙС, ФКТ БТИА Т БНФСКН ЦФКТИА ЦЙТЮТ ЭВНОУА Й ГЩНХ МЩКЩУН».\n",
      "2. КАО ГНЦШН ТО ЦФКАВС ЦДКТВАГ Й ЬКЩБВСХ ЯПТЗ ОАЦДВДЮ ГАУАГ, Т ВА\n",
      "ЬКЩЦШМД: «ЩФЗКЩХ!» ЩВ ЩФЙНФТЮ: «ВН ВЩХ! ВАЙЦНЭУА ФС ЩЦФАВНЫШЦЯ ФАГ».\n",
      "To:\n",
      "1. БЫЛ НА СВЕТЕ СТАРЫК В БОРОДЕ. ГОВОРЫЛ ОН: «Я ОНАЛ, БЫТЬ БЕДЕ. ДВЕ\n",
      "СОВЫ, ТРЫ БЫБА Ы БЕТЫРЕ СТРЫБА СВЫЛЫ ГНЕОДА В МОЕЙ БОРОДЕ».\n",
      "2. РАО МЕСЬЕ ЫО СТРАНЫ СУРЫНАМ В ПРОБНЫЙ ЯПЫК ОАСУНУЛ МАДАМ, Ы НА\n",
      "ПРОСЬБУ: «ОТКРОЙ!» ОН ОТВЕТЫЛ: «НЕ НОЙ! НАВСЕГДА ТЫ ОСТАНЕШЬСЯ ТАМ».\n",
      "With freq:\n",
      "1. БЫЛ НА СВЕТЕ СТАРЫК В БОРОДЕ. ГОВОРЫЛ ОН: «Я ПНАЛ, БЫТЬ БЕДЕ. ДВЕ\n",
      "СОВЫ, ТРЫ ЙЫБА Ы ЙЕТЫРЕ СТРЫБА СВЫЛЫ ГНЕПДА В МОЕЙ БОРОДЕ».\n",
      "2. РАП МЕСЬЕ ЫП СТРАНЫ СУРЫНАМ В ПРОЙНЫЙ ЯШЫК ПАСУНУЛ МАДАМ, Ы НА\n",
      "ПРОСЬБУ: «ОТКРОЙ!» ОН ОТВЕТЫЛ: «НЕ НОЙ! НАВСЕГДА ТЫ ОСТАНЕШЬСЯ ТАМ».\n"
     ]
    },
    {
     "output_type": "display_data",
     "data": {
      "image/png": "[encoded data removed]",
      "text/plain": [
       "<Figure size 432x288 with 2 Axes>"
      ]
     },
     "metadata": {
      "needs_background": "light"
     }
    }
   ],
   "metadata": {}
  },
  {
   "cell_type": "code",
   "execution_count": 12,
   "source": [
    "app.replace(\"ЦФАКТЗ\", \"СТАРИК\")"
   ],
   "outputs": [
    {
     "output_type": "stream",
     "name": "stdout",
     "text": [
      "Translated text:\n",
      "1. ИТЮ ВА ЦЙНФН ЦФАКТЗ Й МЩКЩУН. ЭЩЙЩКТЮ ЩВ: «Я ОВАЮ, МСФШ МНУН. УЙН\n",
      "ЦЩЙС, ФКТ БТИА Т БНФСКН ЦФКТИА ЦЙТЮТ ЭВНОУА Й ГЩНХ МЩКЩУН».\n",
      "2. КАО ГНЦШН ТО ЦФКАВС ЦДКТВАГ Й ЬКЩБВСХ ЯПТЗ ОАЦДВДЮ ГАУАГ, Т ВА\n",
      "ЬКЩЦШМД: «ЩФЗКЩХ!» ЩВ ЩФЙНФТЮ: «ВН ВЩХ! ВАЙЦНЭУА ФС ЩЦФАВНЫШЦЯ ФАГ».\n",
      "To:\n",
      "1. БИЛ НА СВЕТЕ СТАРИК В БОРОДЕ. ГОВОРИЛ ОН: «Я ОНАЛ, БЫТЬ БЕДЕ. ДВЕ\n",
      "СОВЫ, ТРИ БИБА И БЕТЫРЕ СТРИБА СВИЛИ ГНЕОДА В МОЕЙ БОРОДЕ».\n",
      "2. РАО МЕСЬЕ ИО СТРАНЫ СУРИНАМ В ПРОБНЫЙ ЯПИК ОАСУНУЛ МАДАМ, И НА\n",
      "ПРОСЬБУ: «ОТКРОЙ!» ОН ОТВЕТИЛ: «НЕ НОЙ! НАВСЕГДА ТЫ ОСТАНЕШЬСЯ ТАМ».\n",
      "With freq:\n",
      "1. БИЛ НА СВЕТЕ СТАРИК В БОРОДЕ. ГОВОРИЛ ОН: «Я ПНАЛ, БЫТЬ БЕДЕ. ДВЕ\n",
      "СОВЫ, ТРИ ЙИБА И ЙЕТЫРЕ СТРИБА СВИЛИ ГНЕПДА В МОЕЙ БОРОДЕ».\n",
      "2. РАП МЕСЬЕ ИП СТРАНЫ СУРИНАМ В ПРОЙНЫЙ ЯШИК ПАСУНУЛ МАДАМ, И НА\n",
      "ПРОСЬБУ: «ОТКРОЙ!» ОН ОТВЕТИЛ: «НЕ НОЙ! НАВСЕГДА ТЫ ОСТАНЕШЬСЯ ТАМ».\n"
     ]
    },
    {
     "output_type": "display_data",
     "data": {
      "image/png": "[encoded data removed]",
      "text/plain": [
       "<Figure size 432x288 with 2 Axes>"
      ]
     },
     "metadata": {
      "needs_background": "light"
     }
    }
   ],
   "metadata": {}
  },
  {
   "cell_type": "code",
   "execution_count": null,
   "source": [],
   "outputs": [],
   "metadata": {}
  }
 ],
 "metadata": {
  "kernelspec": {
   "name": "python3",
   "display_name": "Python 3.9.7 64-bit ('python-playground-PHtHmzs8': pipenv)"
  },
  "language_info": {
   "codemirror_mode": {
    "name": "ipython",
    "version": 3
   },
   "file_extension": ".py",
   "mimetype": "text/x-python",
   "name": "python",
   "nbconvert_exporter": "python",
   "pygments_lexer": "ipython3",
   "version": "3.9.7"
  },
  "interpreter": {
   "hash": "8f03536c6a1f835a61bf4a5e9c9f820b0d5f2590c324c5caa86411065d52ac37"
  }
 },
 "nbformat": 4,
 "nbformat_minor": 5
}
